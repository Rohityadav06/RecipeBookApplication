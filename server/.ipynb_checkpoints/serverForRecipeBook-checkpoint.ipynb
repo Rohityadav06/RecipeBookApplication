{
 "cells": [
  {
   "cell_type": "code",
   "execution_count": 10,
   "metadata": {},
   "outputs": [],
   "source": [
    "import flask\n",
    "import json\n",
    "import pymongo\n",
    "from flask_cors import CORS;\n",
    "from flask import request\n",
    "import re\n",
    "class Server:\n",
    "    def createServer(self):\n",
    "        \n",
    "            \n",
    "        try: \n",
    "            app = flask.Flask(__name__)\n",
    "            CORS(app)\n",
    "            mongoClient = pymongo.MongoClient(\"mongodb://localhost:27017/\")\n",
    "            db = mongoClient[\"recipeBook\"]\n",
    "            users = db[\"users\"]\n",
    "            recipes = db[\"recipes\"]\n",
    "            \n",
    "            @app.route(\"/login\",methods = ['POST'])\n",
    "            def Login():\n",
    "                loginData = json.loads(request.data)\n",
    "                #print(loginData)\n",
    "                user_id = loginData[\"user_id\"]\n",
    "                password = loginData[\"password\"]\n",
    "                #print(loginData)\n",
    "                user = users.find_one({\"user_id\":user_id , \"password\":password})\n",
    "                if(user):\n",
    "                    return {\"data\":\"valid\"}\n",
    "                else:\n",
    "                    return {\"data\":\"invalid\"}\n",
    "                \n",
    "            \n",
    "            @app.route(\"/getAllUser\")\n",
    "            def getAllFriends():\n",
    "                user_id = request.args.get(\"user_id\")\n",
    "                usersArray = []\n",
    "                user = users.find_one({\"user_id\": user_id })\n",
    "                if(user):\n",
    "                    usersArray.append({\n",
    "                            \"friendList\": user[\"friend_list\"],\n",
    "                            \"friendsTotal\":len(user[\"friend_list\"])\n",
    "                    })\n",
    "                 \n",
    "                print(usersArray)\n",
    "                return{\"message\":\"found\", \"data\":usersArray} \n",
    "                \n",
    "            \n",
    "            @app.route(\"/addNewFriend\",methods = ['POST'])\n",
    "            def addNewFriend():\n",
    "                data = json.loads(request.data)\n",
    "                print(data)\n",
    "                user_id = data[\"user_id\"]\n",
    "                friend_new = data[\"friendNeedToAdd\"]\n",
    "                user = users.update_one({\"user_id\":user_id},{\n",
    "                                       \"$push\":{\"friend_list\":friend_new}\n",
    "                    \n",
    "                })\n",
    "                if(user == None):\n",
    "                    return {\"message\":\"unable to add friend\"}\n",
    "                friend = users.update_one({\"user_id\":friend_new},\n",
    "                                          \n",
    "                                       {\"$push\":{\"friend_list\":user_id}})\n",
    "                if(friend == None):\n",
    "                    return {\"message\":\"unable to add friend\"}\n",
    "                return {\"message\":\"updated\"}\n",
    "                \n",
    "            @app.route(\"/searchFriends\")\n",
    "            def searchFriends():\n",
    "                user_id = request.args.get(\"user_id\")\n",
    "                searchedArray = []\n",
    "                \n",
    "\n",
    "                rgx = re.compile('.*'+user_id+'.*', re.IGNORECASE)\n",
    "                user = users.find({\"user_id\": rgx })\n",
    "                \n",
    "                if(user != []):\n",
    "                    for i in user:\n",
    "                        \n",
    "                        searchedArray.append({\"user_id\":i[\"user_id\"]})\n",
    "                    print(searchedArray)\n",
    "                    if(len(searchedArray) != 0):\n",
    "                        return {\"message\":\"found\", \"data\":searchedArray}\n",
    "                \n",
    "                return {\"message\":\"not found\"}\n",
    "            \n",
    "            \n",
    "            \n",
    "            \n",
    "            @app.route(\"/getAllRecipes\",methods = ['GET'] )\n",
    "            def fetchAllRecipes():\n",
    "                user_id = request.args.get(\"user_id\")\n",
    "                print(user_id)\n",
    "                user = users.find_one({\"user_id\":user_id})\n",
    "                recipe = recipes.find_one({\"user_id\":user_id})\n",
    "                if(recipe == None):\n",
    "                    return {\"message\":\"no recipes found\"}\n",
    "                allRecipes = []\n",
    "                if(user):\n",
    "                    userRecipes = recipes.find_one({\"user_id\": user_id })\n",
    "                    userRecipesArray = userRecipes[\"recipes\"]\n",
    "                    if(userRecipesArray != []):\n",
    "                        for i in userRecipesArray:\n",
    "                            allRecipes.append(i) \n",
    "                    \n",
    "                    print(allRecipes)\n",
    "                    friendList = user[\"friend_list\"]\n",
    "                    print(friendList)\n",
    "                    if(friendList != []):\n",
    "                        for i in friendList:\n",
    "                            friendRecipe = recipes.find_one({\"user_id\": i })\n",
    "                            if(friendRecipe == None):\n",
    "                                continue\n",
    "                            else:\n",
    "                                friendRecipesArray = friendRecipe[\"recipes\"]\n",
    "                            if(friendRecipesArray != []):\n",
    "                                for j in friendRecipesArray:\n",
    "                                    allRecipes.append(j)\n",
    "                            print(allRecipes)\n",
    "                        if(len(allRecipes)>1):\n",
    "                            allRecipes.sort(key = lambda x:x[\"date\"],reverse=True)\n",
    "                            \n",
    "                #products.sort(key=lambda x: x[\"brand\"])\n",
    "                    \n",
    "                      \n",
    "                    else:\n",
    "                        print(\"no friends found\")\n",
    "                    \n",
    "                    return {\"message\":\"found\", \"data\":allRecipes} \n",
    "                 \n",
    "                return {\"message\":\"no recipes found\"}\n",
    "            \n",
    "            \n",
    "            \n",
    "            @app.route(\"/addRecipe\", methods = ['POST'])\n",
    "            def addNewRecipe():\n",
    "                data = json.loads(request.data)\n",
    "                print(data[\"user_id\"])\n",
    "                user = recipes.find_one({\"user_id\":data[\"user_id\"]})\n",
    "                if(user):\n",
    "                    userRecipes = recipes.update_one({\"user_id\": data[\"user_id\"]},{\n",
    "                        \"$push\":{\n",
    "                            \"recipes\": data\n",
    "                        }\n",
    "                    })\n",
    "                    return {\"res\":\"pushed a new instances of array in recipes table\"}\n",
    "                else:\n",
    "                    recipes.insert({\"user_id\": data[\"user_id\"],\n",
    "                                   \"recipes\":[data]\n",
    "                                   })\n",
    "                    return {\"res\":\"added a new record in recipes table\"}\n",
    "            \n",
    "            if __name__ == \"__main__\":\n",
    "                app.run()\n",
    "            \n",
    "        except Exception as e:\n",
    "            print(e)"
   ]
  },
  {
   "cell_type": "code",
   "execution_count": 11,
   "metadata": {},
   "outputs": [],
   "source": [
    "s = Server()"
   ]
  },
  {
   "cell_type": "code",
   "execution_count": null,
   "metadata": {},
   "outputs": [
    {
     "name": "stdout",
     "output_type": "stream",
     "text": [
      " * Serving Flask app \"__main__\" (lazy loading)\n",
      " * Environment: production\n",
      "   WARNING: This is a development server. Do not use it in a production deployment.\n",
      "   Use a production WSGI server instead.\n",
      " * Debug mode: off\n"
     ]
    },
    {
     "name": "stderr",
     "output_type": "stream",
     "text": [
      " * Running on http://127.0.0.1:5000/ (Press CTRL+C to quit)\n",
      "127.0.0.1 - - [20/Oct/2021 21:30:05] \"OPTIONS /login HTTP/1.1\" 200 -\n",
      "127.0.0.1 - - [20/Oct/2021 21:30:05] \"POST /login HTTP/1.1\" 200 -\n",
      "127.0.0.1 - - [20/Oct/2021 21:30:05] \"GET /getAllRecipes?user_id=rohit HTTP/1.1\" 200 -\n"
     ]
    },
    {
     "name": "stdout",
     "output_type": "stream",
     "text": [
      "rohit\n",
      "[{'name': 'Macaroni', 'user_id': 'rohit', 'ingrediant': '1 (8 ounce) box elbow macaronicup butter,1 cup all-purpose flour,1 teaspoon salt,round black pepper to taste,2 cups milk,2 cups shredded Cheddar cheese', 'steps': 'Melt butter in a saucepan over medium heat; stir in flour, salt, and pepper until smooth, about 5 minutes. Slowly pour milk into butter-flour mixture while continuously stirring until mixture is smooth and bubbling, about 5 minutes. Add Cheddar cheese to milk mixture and stir until cheese is melted, 2 to 4 minutes.', 'date': 1634745581}, {'name': 'Macaroni', 'user_id': 'rohit', 'ingrediant': '1 (8 ounce) box elbow macaronicup butter,1 cup all-purpose flour,1 teaspoon salt,round black pepper to taste,2 cups milk,2 cups shredded Cheddar cheese', 'steps': 'Melt butter in a saucepan over medium heat; stir in flour, salt, and pepper until smooth, about 5 minutes. Slowly pour milk into butter-flour mixture while continuously stirring until mixture is smooth and bubbling, about 5 minutes. Add Cheddar cheese to milk mixture and stir until cheese is melted, 2 to 4 minutes.', 'date': 1634745581}]\n",
      "['tom', 'Holly', 'harry', 'anku', 'Elizabeth', 'anku']\n"
     ]
    },
    {
     "name": "stderr",
     "output_type": "stream",
     "text": [
      "127.0.0.1 - - [20/Oct/2021 21:33:57] \"GET /searchFriends?user_id=sahil HTTP/1.1\" 200 -\n"
     ]
    },
    {
     "name": "stdout",
     "output_type": "stream",
     "text": [
      "[{'user_id': 'sahil'}]\n"
     ]
    },
    {
     "name": "stderr",
     "output_type": "stream",
     "text": [
      "127.0.0.1 - - [20/Oct/2021 21:33:58] \"OPTIONS /addNewFriend HTTP/1.1\" 200 -\n",
      "127.0.0.1 - - [20/Oct/2021 21:33:58] \"POST /addNewFriend HTTP/1.1\" 200 -\n"
     ]
    },
    {
     "name": "stdout",
     "output_type": "stream",
     "text": [
      "{'user_id': 'rohit', 'friendNeedToAdd': 'sahil'}\n"
     ]
    },
    {
     "name": "stderr",
     "output_type": "stream",
     "text": [
      "127.0.0.1 - - [20/Oct/2021 21:34:01] \"GET /getAllRecipes?user_id=rohit HTTP/1.1\" 200 -\n"
     ]
    },
    {
     "name": "stdout",
     "output_type": "stream",
     "text": [
      "rohit\n",
      "[{'name': 'Macaroni', 'user_id': 'rohit', 'ingrediant': '1 (8 ounce) box elbow macaronicup butter,1 cup all-purpose flour,1 teaspoon salt,round black pepper to taste,2 cups milk,2 cups shredded Cheddar cheese', 'steps': 'Melt butter in a saucepan over medium heat; stir in flour, salt, and pepper until smooth, about 5 minutes. Slowly pour milk into butter-flour mixture while continuously stirring until mixture is smooth and bubbling, about 5 minutes. Add Cheddar cheese to milk mixture and stir until cheese is melted, 2 to 4 minutes.', 'date': 1634745581}, {'name': 'Macaroni', 'user_id': 'rohit', 'ingrediant': '1 (8 ounce) box elbow macaronicup butter,1 cup all-purpose flour,1 teaspoon salt,round black pepper to taste,2 cups milk,2 cups shredded Cheddar cheese', 'steps': 'Melt butter in a saucepan over medium heat; stir in flour, salt, and pepper until smooth, about 5 minutes. Slowly pour milk into butter-flour mixture while continuously stirring until mixture is smooth and bubbling, about 5 minutes. Add Cheddar cheese to milk mixture and stir until cheese is melted, 2 to 4 minutes.', 'date': 1634745581}]\n",
      "['tom', 'Holly', 'harry', 'anku', 'Elizabeth', 'anku', 'sahil']\n",
      "[{'name': 'Macaroni', 'user_id': 'rohit', 'ingrediant': '1 (8 ounce) box elbow macaronicup butter,1 cup all-purpose flour,1 teaspoon salt,round black pepper to taste,2 cups milk,2 cups shredded Cheddar cheese', 'steps': 'Melt butter in a saucepan over medium heat; stir in flour, salt, and pepper until smooth, about 5 minutes. Slowly pour milk into butter-flour mixture while continuously stirring until mixture is smooth and bubbling, about 5 minutes. Add Cheddar cheese to milk mixture and stir until cheese is melted, 2 to 4 minutes.', 'date': 1634745581}, {'name': 'Macaroni', 'user_id': 'rohit', 'ingrediant': '1 (8 ounce) box elbow macaronicup butter,1 cup all-purpose flour,1 teaspoon salt,round black pepper to taste,2 cups milk,2 cups shredded Cheddar cheese', 'steps': 'Melt butter in a saucepan over medium heat; stir in flour, salt, and pepper until smooth, about 5 minutes. Slowly pour milk into butter-flour mixture while continuously stirring until mixture is smooth and bubbling, about 5 minutes. Add Cheddar cheese to milk mixture and stir until cheese is melted, 2 to 4 minutes.', 'date': 1634745581}, {'name': 'Cheese Pasta', 'user_id': 'sahil', 'ingrediant': '1 (8 ounce) box elbow macaronicup butter,1 cup all-purpose flour,1 teaspoon salt,round black pepper to taste,2 cups milk,2 cups shredded Cheddar cheese', 'steps': 'Melt butter in a saucepan over medium heat stir in flour, salt, and pepper until smooth, about 5 minutes. Slowly pour milk into butter-flour mixture while continuously stirring until mixture is smooth and bubbling, about 5 minutes. Add Cheddar cheese to milk mixture and stir until cheese is melted, 2 to 4 minutes.', 'date': 1634745581}]\n"
     ]
    },
    {
     "name": "stderr",
     "output_type": "stream",
     "text": [
      "127.0.0.1 - - [20/Oct/2021 22:21:03] \"OPTIONS /login HTTP/1.1\" 200 -\n",
      "127.0.0.1 - - [20/Oct/2021 22:21:03] \"POST /login HTTP/1.1\" 200 -\n",
      "127.0.0.1 - - [20/Oct/2021 22:21:03] \"GET /getAllRecipes?user_id=sahil HTTP/1.1\" 200 -\n"
     ]
    },
    {
     "name": "stdout",
     "output_type": "stream",
     "text": [
      "sahil\n",
      "[{'name': 'Cheese Pasta', 'user_id': 'sahil', 'ingrediant': '1 (8 ounce) box elbow macaronicup butter,1 cup all-purpose flour,1 teaspoon salt,round black pepper to taste,2 cups milk,2 cups shredded Cheddar cheese', 'steps': 'Melt butter in a saucepan over medium heat stir in flour, salt, and pepper until smooth, about 5 minutes. Slowly pour milk into butter-flour mixture while continuously stirring until mixture is smooth and bubbling, about 5 minutes. Add Cheddar cheese to milk mixture and stir until cheese is melted, 2 to 4 minutes.', 'date': 1634745581}]\n",
      "['rohit']\n",
      "[{'name': 'Cheese Pasta', 'user_id': 'sahil', 'ingrediant': '1 (8 ounce) box elbow macaronicup butter,1 cup all-purpose flour,1 teaspoon salt,round black pepper to taste,2 cups milk,2 cups shredded Cheddar cheese', 'steps': 'Melt butter in a saucepan over medium heat stir in flour, salt, and pepper until smooth, about 5 minutes. Slowly pour milk into butter-flour mixture while continuously stirring until mixture is smooth and bubbling, about 5 minutes. Add Cheddar cheese to milk mixture and stir until cheese is melted, 2 to 4 minutes.', 'date': 1634745581}, {'name': 'Macaroni', 'user_id': 'rohit', 'ingrediant': '1 (8 ounce) box elbow macaronicup butter,1 cup all-purpose flour,1 teaspoon salt,round black pepper to taste,2 cups milk,2 cups shredded Cheddar cheese', 'steps': 'Melt butter in a saucepan over medium heat; stir in flour, salt, and pepper until smooth, about 5 minutes. Slowly pour milk into butter-flour mixture while continuously stirring until mixture is smooth and bubbling, about 5 minutes. Add Cheddar cheese to milk mixture and stir until cheese is melted, 2 to 4 minutes.', 'date': 1634745581}, {'name': 'Macaroni', 'user_id': 'rohit', 'ingrediant': '1 (8 ounce) box elbow macaronicup butter,1 cup all-purpose flour,1 teaspoon salt,round black pepper to taste,2 cups milk,2 cups shredded Cheddar cheese', 'steps': 'Melt butter in a saucepan over medium heat; stir in flour, salt, and pepper until smooth, about 5 minutes. Slowly pour milk into butter-flour mixture while continuously stirring until mixture is smooth and bubbling, about 5 minutes. Add Cheddar cheese to milk mixture and stir until cheese is melted, 2 to 4 minutes.', 'date': 1634745581}]\n"
     ]
    }
   ],
   "source": [
    "s.createServer()"
   ]
  },
  {
   "cell_type": "code",
   "execution_count": 8,
   "metadata": {},
   "outputs": [],
   "source": [
    "import pymongo\n",
    "from datetime import datetime\n",
    "class CreateDB:\n",
    "    def __init__(self):\n",
    "        mongoClient = pymongo.MongoClient(\"mongodb://localhost:27017/\")\n",
    "        db = mongoClient[\"recipeBook\"]\n",
    "        users = db[\"users\"]\n",
    "        recipes = db[\"recipes\"]\n",
    "        \n",
    "        #default login details\n",
    "        \n",
    "#         user1 = {\"user_id\":\"rohit\", \"password\":\"1234\",\"friend_list\":[\"tom\",\"Holly\",\"harry\",\"anku\",\"Elizabeth\"]}\n",
    "#         user2 = {\"user_id\":\"tom\", \"password\":\"4332\",\"friend_list\":[\"rohit\"]}\n",
    "#         user3 = {\"user_id\":\"harry\", \"password\":\"86679234\",\"friend_list\":[\"rohit\"]}\n",
    "#         user4 = {\"user_id\":\"anku\", \"password\":\"19922\",\"friend_list\":[\"rohit\"]}\n",
    "#         user5 = {\"user_id\":\"Holly \", \"password\":\"2323\",\"friend_list\":[\"rohit\"]}\n",
    "#         user6 = {\"user_id\":\"Carlos \", \"password\":\"5561\",\"friend_list\":[]}\n",
    "#         user7 = {\"user_id\":\"Toni\", \"password\":\"124\",\"friend_list\":[]}\n",
    "#         user8 = {\"user_id\":\"Elizabeth \", \"password\":\"123423\",\"friend_list\":[\"rohit\"]}\n",
    "#         user9 = {\"user_id\":\"Ronald \", \"password\":\"34534\",\"friend_list\":[]}\n",
    "#         user10 = {\"user_id\":\"Laverne\", \"password\":\"34567\",\"friend_list\":[]}\n",
    "#         user11 = {\"user_id\":\"sahil\", \"password\":\"9876\",\"friend_list\":[]}\n",
    "#         users.insert_one(user1)\n",
    "#         users.insert_one(user2)\n",
    "#         users.insert_one(user3)\n",
    "#         users.insert_one(user4)\n",
    "#         users.insert_one(user5)\n",
    "#         users.insert_one(user6)\n",
    "#         users.insert_one(user7)\n",
    "#         users.insert_one(user8)\n",
    "#         users.insert_one(user9)\n",
    "#         users.insert_one(user10)\n",
    "#         users.insert_one(user11)\n",
    "#         recipes.insert_one(recipes1)\n",
    "        \n",
    "        #default Recipes\n",
    "        \n",
    "        recipes1 = {\"name\":\"Macaroni\",\n",
    "                    \"user_id\":\"rohit\",\n",
    "                    \"ingrediant\":\"1 (8 ounce) box elbow macaronicup butter,1 cup all-purpose flour,1 teaspoon salt,round black pepper to taste,2 cups milk,2 cups shredded Cheddar cheese\",\n",
    "                       \"steps\": \"Melt butter in a saucepan over medium heat; stir in flour, salt, and pepper until smooth, about 5 minutes. Slowly pour milk into butter-flour mixture while continuously stirring until mixture is smooth and bubbling, about 5 minutes. Add Cheddar cheese to milk mixture and stir until cheese is melted, 2 to 4 minutes.\",\n",
    "                   \"date\": int(datetime.now().timestamp())\n",
    "                   }\n",
    "        recipes2 = {\"name\":\"Macaroni\",\n",
    "                    \"user_id\":\"rohit\",\n",
    "                    \"ingrediant\":\"1 (8 ounce) box elbow macaronicup butter,1 cup all-purpose flour,1 teaspoon salt,round black pepper to taste,2 cups milk,2 cups shredded Cheddar cheese\",\n",
    "                       \"steps\": \"Melt butter in a saucepan over medium heat; stir in flour, salt, and pepper until smooth, about 5 minutes. Slowly pour milk into butter-flour mixture while continuously stirring until mixture is smooth and bubbling, about 5 minutes. Add Cheddar cheese to milk mixture and stir until cheese is melted, 2 to 4 minutes.\",\n",
    "                   \"date\": int(datetime.now().timestamp())\n",
    "                   }\n",
    "        \n",
    "        recipes3 = {\"name\":\"Cheese Pasta\",\n",
    "                    \"user_id\":\"sahil\",\n",
    "                    \"ingrediant\":\"1 (8 ounce) box elbow macaronicup butter,1 cup all-purpose flour,1 teaspoon salt,round black pepper to taste,2 cups milk,2 cups shredded Cheddar cheese\",\n",
    "                   \"steps\": \"Melt butter in a saucepan over medium heat stir in flour, salt, and pepper until smooth, about 5 minutes. Slowly pour milk into butter-flour mixture while continuously stirring until mixture is smooth and bubbling, about 5 minutes. Add Cheddar cheese to milk mixture and stir until cheese is melted, 2 to 4 minutes.\",\n",
    "                   \"date\": int(datetime.now().timestamp())\n",
    "                   }\n",
    "        recipes.insert_one({ \"user_id\":\"rohit\",\"recipes\":[recipes1,recipes2]})\n",
    "        recipes.insert_one({\"user_id\":\"sahil\",\"recipes\":[recipes3]})\n",
    "        \n",
    "        \n",
    "        \n",
    "        "
   ]
  },
  {
   "cell_type": "code",
   "execution_count": 9,
   "metadata": {},
   "outputs": [],
   "source": [
    "db = CreateDB()"
   ]
  },
  {
   "cell_type": "code",
   "execution_count": 7,
   "metadata": {},
   "outputs": [
    {
     "data": {
      "text/plain": [
       "1634706032"
      ]
     },
     "execution_count": 7,
     "metadata": {},
     "output_type": "execute_result"
    }
   ],
   "source": [
    "from datetime import datetime\n",
    "int(datetime.now().timestamp())"
   ]
  },
  {
   "cell_type": "code",
   "execution_count": 70,
   "metadata": {},
   "outputs": [
    {
     "name": "stdout",
     "output_type": "stream",
     "text": [
      "Requirement already satisfied: flask_cors in c:\\anaconda\\lib\\site-packages (3.0.10)\n",
      "Requirement already satisfied: Six in c:\\anaconda\\lib\\site-packages (from flask_cors) (1.12.0)\n",
      "Requirement already satisfied: Flask>=0.9 in c:\\anaconda\\lib\\site-packages (from flask_cors) (1.1.1)\n",
      "Requirement already satisfied: itsdangerous>=0.24 in c:\\anaconda\\lib\\site-packages (from Flask>=0.9->flask_cors) (1.1.0)\n",
      "Requirement already satisfied: Werkzeug>=0.15 in c:\\anaconda\\lib\\site-packages (from Flask>=0.9->flask_cors) (0.16.0)\n",
      "Requirement already satisfied: Jinja2>=2.10.1 in c:\\anaconda\\lib\\site-packages (from Flask>=0.9->flask_cors) (2.10.3)\n",
      "Requirement already satisfied: click>=5.1 in c:\\anaconda\\lib\\site-packages (from Flask>=0.9->flask_cors) (7.0)\n",
      "Requirement already satisfied: MarkupSafe>=0.23 in c:\\anaconda\\lib\\site-packages (from Jinja2>=2.10.1->Flask>=0.9->flask_cors) (1.1.1)\n"
     ]
    }
   ],
   "source": []
  },
  {
   "cell_type": "code",
   "execution_count": 80,
   "metadata": {},
   "outputs": [
    {
     "name": "stdout",
     "output_type": "stream",
     "text": [
      "/r/\n"
     ]
    }
   ],
   "source": []
  },
  {
   "cell_type": "code",
   "execution_count": null,
   "metadata": {},
   "outputs": [],
   "source": []
  }
 ],
 "metadata": {
  "kernelspec": {
   "display_name": "Python 3",
   "language": "python",
   "name": "python3"
  },
  "language_info": {
   "codemirror_mode": {
    "name": "ipython",
    "version": 3
   },
   "file_extension": ".py",
   "mimetype": "text/x-python",
   "name": "python",
   "nbconvert_exporter": "python",
   "pygments_lexer": "ipython3",
   "version": "3.7.4"
  }
 },
 "nbformat": 4,
 "nbformat_minor": 2
}
